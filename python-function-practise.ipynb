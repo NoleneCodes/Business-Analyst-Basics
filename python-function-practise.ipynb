{
  "nbformat": 4,
  "nbformat_minor": 0,
  "metadata": {
    "colab": {
      "provenance": [],
      "authorship_tag": "ABX9TyN6KZdoDz1JKdzOQVjf73H/"
    },
    "kernelspec": {
      "name": "python3",
      "display_name": "Python 3"
    },
    "language_info": {
      "name": "python"
    }
  },
  "cells": [
    {
      "cell_type": "markdown",
      "source": [
        "#Print String Function Practise"
      ],
      "metadata": {
        "id": "iGuBWflJRD-W"
      }
    },
    {
      "cell_type": "code",
      "execution_count": 255,
      "metadata": {
        "colab": {
          "base_uri": "https://localhost:8080/"
        },
        "id": "RajQ13iDBjRo",
        "outputId": "3eea4602-c54a-4629-997a-304f5a9c8064"
      },
      "outputs": [
        {
          "output_type": "stream",
          "name": "stdout",
          "text": [
            "Hello World, My name is Nolene, My age is 25\n",
            "Welcome\n"
          ]
        }
      ],
      "source": [
        "print(\"Hello World, My name is Nolene, My age is\",25)\n",
        "print(\"Welcome\")"
      ]
    },
    {
      "cell_type": "code",
      "source": [
        "name= \"Nolene\""
      ],
      "metadata": {
        "id": "MxpCHp4oCNm9"
      },
      "execution_count": 256,
      "outputs": []
    },
    {
      "cell_type": "code",
      "source": [
        "print(name)"
      ],
      "metadata": {
        "colab": {
          "base_uri": "https://localhost:8080/"
        },
        "id": "ibBUeOnrCXxY",
        "outputId": "a98043dc-9ae2-4d24-83a2-7afe542a6306"
      },
      "execution_count": 257,
      "outputs": [
        {
          "output_type": "stream",
          "name": "stdout",
          "text": [
            "Nolene\n"
          ]
        }
      ]
    },
    {
      "cell_type": "code",
      "source": [
        "print(\"Hello, my name is\", name)"
      ],
      "metadata": {
        "colab": {
          "base_uri": "https://localhost:8080/"
        },
        "id": "EQ7n5D3aCdmv",
        "outputId": "e10f797d-af2b-4856-9ec6-b7c20b98cbe6"
      },
      "execution_count": 258,
      "outputs": [
        {
          "output_type": "stream",
          "name": "stdout",
          "text": [
            "Hello, my name is Nolene\n"
          ]
        }
      ]
    },
    {
      "cell_type": "code",
      "source": [
        "print(name,\"is 25\")"
      ],
      "metadata": {
        "colab": {
          "base_uri": "https://localhost:8080/"
        },
        "id": "PnuDs-88Cp1q",
        "outputId": "68a3e118-757f-4247-e291-0fc4e0bc2cc6"
      },
      "execution_count": 259,
      "outputs": [
        {
          "output_type": "stream",
          "name": "stdout",
          "text": [
            "Nolene is 25\n"
          ]
        }
      ]
    },
    {
      "cell_type": "code",
      "source": [
        "MyAge= 25\n",
        "print(\"Hello, my name is\", name, \"and my age is\", MyAge)"
      ],
      "metadata": {
        "colab": {
          "base_uri": "https://localhost:8080/"
        },
        "id": "JfLzcvtEC6Di",
        "outputId": "e531c684-4330-4a70-ef1f-60d2a416d2a0"
      },
      "execution_count": 260,
      "outputs": [
        {
          "output_type": "stream",
          "name": "stdout",
          "text": [
            "Hello, my name is Nolene and my age is 25\n"
          ]
        }
      ]
    },
    {
      "cell_type": "code",
      "source": [
        "print(\"Hello.\\nMy name is \"+ name)"
      ],
      "metadata": {
        "colab": {
          "base_uri": "https://localhost:8080/"
        },
        "id": "FWvBrCt5DlZr",
        "outputId": "eb9b5615-135b-4062-a90a-6441b79e10e5"
      },
      "execution_count": 261,
      "outputs": [
        {
          "output_type": "stream",
          "name": "stdout",
          "text": [
            "Hello.\n",
            "My name is Nolene\n"
          ]
        }
      ]
    },
    {
      "cell_type": "code",
      "source": [
        "print(name[5])"
      ],
      "metadata": {
        "colab": {
          "base_uri": "https://localhost:8080/"
        },
        "id": "hXIfeCDcEngE",
        "outputId": "5e6bc4fa-c5ca-4756-e70c-3d6a8a396d2d"
      },
      "execution_count": 262,
      "outputs": [
        {
          "output_type": "stream",
          "name": "stdout",
          "text": [
            "e\n"
          ]
        }
      ]
    },
    {
      "cell_type": "code",
      "source": [
        "print(name.upper())"
      ],
      "metadata": {
        "colab": {
          "base_uri": "https://localhost:8080/"
        },
        "id": "p6NySEvLE6lU",
        "outputId": "576d08a9-9433-4bc0-fb2b-b7a4f7e85cf4"
      },
      "execution_count": 263,
      "outputs": [
        {
          "output_type": "stream",
          "name": "stdout",
          "text": [
            "NOLENE\n"
          ]
        }
      ]
    },
    {
      "cell_type": "code",
      "source": [
        "print(name.islower())"
      ],
      "metadata": {
        "colab": {
          "base_uri": "https://localhost:8080/"
        },
        "id": "JRcjGpYAFTI2",
        "outputId": "755c87fc-335a-4479-9558-efcb98870168"
      },
      "execution_count": 264,
      "outputs": [
        {
          "output_type": "stream",
          "name": "stdout",
          "text": [
            "False\n"
          ]
        }
      ]
    },
    {
      "cell_type": "code",
      "source": [
        "print(name.lower())"
      ],
      "metadata": {
        "colab": {
          "base_uri": "https://localhost:8080/"
        },
        "id": "xkrC7U6LFBdz",
        "outputId": "fb815d3f-1a6f-4e14-a7b2-4874063f3ed5"
      },
      "execution_count": 265,
      "outputs": [
        {
          "output_type": "stream",
          "name": "stdout",
          "text": [
            "nolene\n"
          ]
        }
      ]
    },
    {
      "cell_type": "code",
      "source": [
        "print(name.isupper())"
      ],
      "metadata": {
        "colab": {
          "base_uri": "https://localhost:8080/"
        },
        "id": "DPsKDew-KIxh",
        "outputId": "e9330cc8-b91f-4742-891e-7f050fc74162"
      },
      "execution_count": 266,
      "outputs": [
        {
          "output_type": "stream",
          "name": "stdout",
          "text": [
            "False\n"
          ]
        }
      ]
    },
    {
      "cell_type": "code",
      "source": [
        "print(name.lower().islower())"
      ],
      "metadata": {
        "colab": {
          "base_uri": "https://localhost:8080/"
        },
        "id": "P7zhOm_MKVJW",
        "outputId": "cc1a0eab-a14d-47a1-8e28-43c61e64aadd"
      },
      "execution_count": 267,
      "outputs": [
        {
          "output_type": "stream",
          "name": "stdout",
          "text": [
            "True\n"
          ]
        }
      ]
    },
    {
      "cell_type": "code",
      "source": [
        "print(len(name))"
      ],
      "metadata": {
        "colab": {
          "base_uri": "https://localhost:8080/"
        },
        "id": "KfWIpzspKi7K",
        "outputId": "4d2d5249-13e6-439d-8614-0079eaaf19ae"
      },
      "execution_count": 268,
      "outputs": [
        {
          "output_type": "stream",
          "name": "stdout",
          "text": [
            "6\n"
          ]
        }
      ]
    },
    {
      "cell_type": "code",
      "source": [
        "print(name.index(\"o\"))"
      ],
      "metadata": {
        "colab": {
          "base_uri": "https://localhost:8080/"
        },
        "id": "Y4qWluklKzNQ",
        "outputId": "9d80ce06-5eff-40a2-9687-5b94b90babe9"
      },
      "execution_count": 269,
      "outputs": [
        {
          "output_type": "stream",
          "name": "stdout",
          "text": [
            "1\n"
          ]
        }
      ]
    },
    {
      "cell_type": "code",
      "source": [
        "print(name.replace(\"N\",\"M\"))"
      ],
      "metadata": {
        "colab": {
          "base_uri": "https://localhost:8080/"
        },
        "id": "TuLTDJ3RLSPe",
        "outputId": "8f66aebe-9777-4118-e155-bb9a295fd955"
      },
      "execution_count": 270,
      "outputs": [
        {
          "output_type": "stream",
          "name": "stdout",
          "text": [
            "Molene\n"
          ]
        }
      ]
    },
    {
      "cell_type": "markdown",
      "source": [
        "\n",
        "#Print Intergar Function Practise"
      ],
      "metadata": {
        "id": "DUNENxWDRRHy"
      }
    },
    {
      "cell_type": "code",
      "source": [
        "print(78)"
      ],
      "metadata": {
        "colab": {
          "base_uri": "https://localhost:8080/"
        },
        "id": "GhVnYNEFLmlo",
        "outputId": "e01d8b37-75de-475d-cfb9-29084bdcd285"
      },
      "execution_count": 271,
      "outputs": [
        {
          "output_type": "stream",
          "name": "stdout",
          "text": [
            "78\n"
          ]
        }
      ]
    },
    {
      "cell_type": "code",
      "source": [
        "Age=79"
      ],
      "metadata": {
        "id": "kHIpZ8OjLqjN"
      },
      "execution_count": 272,
      "outputs": []
    },
    {
      "cell_type": "code",
      "source": [
        "print(number)"
      ],
      "metadata": {
        "colab": {
          "base_uri": "https://localhost:8080/"
        },
        "id": "X7i-9TlfLsHD",
        "outputId": "738a9ec6-6bfa-42ef-dc9c-481e655ad085"
      },
      "execution_count": 273,
      "outputs": [
        {
          "output_type": "stream",
          "name": "stdout",
          "text": [
            "55\n"
          ]
        }
      ]
    },
    {
      "cell_type": "code",
      "source": [
        "print(number+21)"
      ],
      "metadata": {
        "colab": {
          "base_uri": "https://localhost:8080/"
        },
        "id": "j6GYAHnhL0e4",
        "outputId": "3feef999-c3dc-4a38-b6ab-9d3f3fb04422"
      },
      "execution_count": 274,
      "outputs": [
        {
          "output_type": "stream",
          "name": "stdout",
          "text": [
            "76\n"
          ]
        }
      ]
    },
    {
      "cell_type": "code",
      "source": [
        "print(number+21-50.00)"
      ],
      "metadata": {
        "colab": {
          "base_uri": "https://localhost:8080/"
        },
        "id": "gY124VQXMCaU",
        "outputId": "bcef2ca2-9d51-4c23-e4b6-174ff381646a"
      },
      "execution_count": 275,
      "outputs": [
        {
          "output_type": "stream",
          "name": "stdout",
          "text": [
            "26.0\n"
          ]
        }
      ]
    },
    {
      "cell_type": "code",
      "source": [
        "print(number+21 - 50)"
      ],
      "metadata": {
        "colab": {
          "base_uri": "https://localhost:8080/"
        },
        "id": "f1-UhGf1PzeG",
        "outputId": "75bcffe1-56d8-47ae-99be-36615946237f"
      },
      "execution_count": 276,
      "outputs": [
        {
          "output_type": "stream",
          "name": "stdout",
          "text": [
            "26\n"
          ]
        }
      ]
    },
    {
      "cell_type": "code",
      "source": [
        "print((number+21) * 2)"
      ],
      "metadata": {
        "colab": {
          "base_uri": "https://localhost:8080/"
        },
        "id": "ip1xXJBiQFzw",
        "outputId": "1cc51696-1529-4870-a776-140395dc9957"
      },
      "execution_count": 277,
      "outputs": [
        {
          "output_type": "stream",
          "name": "stdout",
          "text": [
            "152\n"
          ]
        }
      ]
    },
    {
      "cell_type": "code",
      "source": [
        "print((number+21)/2)"
      ],
      "metadata": {
        "colab": {
          "base_uri": "https://localhost:8080/"
        },
        "id": "tbe9v0m3QwMC",
        "outputId": "af1fb4c9-ae20-4699-f35d-b1e74e000193"
      },
      "execution_count": 278,
      "outputs": [
        {
          "output_type": "stream",
          "name": "stdout",
          "text": [
            "38.0\n"
          ]
        }
      ]
    },
    {
      "cell_type": "code",
      "source": [
        "print(20/6)"
      ],
      "metadata": {
        "colab": {
          "base_uri": "https://localhost:8080/"
        },
        "id": "ZIty24ECReXW",
        "outputId": "d176c4ba-b540-491d-cd88-0a58bc815548"
      },
      "execution_count": 279,
      "outputs": [
        {
          "output_type": "stream",
          "name": "stdout",
          "text": [
            "3.3333333333333335\n"
          ]
        }
      ]
    },
    {
      "cell_type": "code",
      "source": [
        "print(20%6)"
      ],
      "metadata": {
        "colab": {
          "base_uri": "https://localhost:8080/"
        },
        "id": "TFufQCgQRlQt",
        "outputId": "3a2e5854-52dc-4674-df32-447d6a52fd8e"
      },
      "execution_count": 280,
      "outputs": [
        {
          "output_type": "stream",
          "name": "stdout",
          "text": [
            "2\n"
          ]
        }
      ]
    },
    {
      "cell_type": "code",
      "source": [
        "number= 55"
      ],
      "metadata": {
        "id": "Ph7m9_9rRxAL"
      },
      "execution_count": 281,
      "outputs": []
    },
    {
      "cell_type": "code",
      "source": [
        "number2 = str(number)"
      ],
      "metadata": {
        "id": "2JGm-QH2SCP9"
      },
      "execution_count": 282,
      "outputs": []
    },
    {
      "cell_type": "code",
      "source": [
        "print(\"I am\", number2,\"years old\")"
      ],
      "metadata": {
        "colab": {
          "base_uri": "https://localhost:8080/"
        },
        "id": "njS2kaA3SMBP",
        "outputId": "06c0b51a-70d5-4bbb-fe29-666848e96489"
      },
      "execution_count": 283,
      "outputs": [
        {
          "output_type": "stream",
          "name": "stdout",
          "text": [
            "I am 55 years old\n"
          ]
        }
      ]
    },
    {
      "cell_type": "code",
      "source": [
        "print(-5)"
      ],
      "metadata": {
        "colab": {
          "base_uri": "https://localhost:8080/"
        },
        "id": "VOzE3rNYTcEz",
        "outputId": "edbd7f57-48a2-4794-9f89-0e627c6b7256"
      },
      "execution_count": 284,
      "outputs": [
        {
          "output_type": "stream",
          "name": "stdout",
          "text": [
            "-5\n"
          ]
        }
      ]
    },
    {
      "cell_type": "code",
      "source": [
        "print(abs(-5))"
      ],
      "metadata": {
        "colab": {
          "base_uri": "https://localhost:8080/"
        },
        "id": "sbeeHtcPTWD-",
        "outputId": "82073f65-79a9-4829-fcc8-8dc892aad1d5"
      },
      "execution_count": 285,
      "outputs": [
        {
          "output_type": "stream",
          "name": "stdout",
          "text": [
            "5\n"
          ]
        }
      ]
    },
    {
      "cell_type": "code",
      "source": [
        "print(max(1,4,7,3,9,16))"
      ],
      "metadata": {
        "colab": {
          "base_uri": "https://localhost:8080/"
        },
        "id": "KQC8R9NOTj1W",
        "outputId": "1d0a1687-c25d-450f-ece0-adf84f055b55"
      },
      "execution_count": 286,
      "outputs": [
        {
          "output_type": "stream",
          "name": "stdout",
          "text": [
            "16\n"
          ]
        }
      ]
    },
    {
      "cell_type": "code",
      "source": [
        "print(min(4,6,8,1,8))"
      ],
      "metadata": {
        "colab": {
          "base_uri": "https://localhost:8080/"
        },
        "id": "hu1xOnpOUUFa",
        "outputId": "19ec64a7-a571-427d-ad8c-5e88444dc840"
      },
      "execution_count": 287,
      "outputs": [
        {
          "output_type": "stream",
          "name": "stdout",
          "text": [
            "1\n"
          ]
        }
      ]
    },
    {
      "cell_type": "code",
      "source": [
        "print(round(3.4))"
      ],
      "metadata": {
        "colab": {
          "base_uri": "https://localhost:8080/"
        },
        "id": "JrDKhQyzUaiO",
        "outputId": "1f159961-fefa-4c48-fa50-c2a41967e2c1"
      },
      "execution_count": 288,
      "outputs": [
        {
          "output_type": "stream",
          "name": "stdout",
          "text": [
            "3\n"
          ]
        }
      ]
    },
    {
      "cell_type": "code",
      "source": [
        "print(bin(3332))"
      ],
      "metadata": {
        "colab": {
          "base_uri": "https://localhost:8080/"
        },
        "id": "kQvJ3Jt8Xw4z",
        "outputId": "ebb1f83f-0fff-4403-a61b-c6183acaea4a"
      },
      "execution_count": 289,
      "outputs": [
        {
          "output_type": "stream",
          "name": "stdout",
          "text": [
            "0b110100000100\n"
          ]
        }
      ]
    },
    {
      "cell_type": "code",
      "source": [
        "from math import *"
      ],
      "metadata": {
        "id": "AZeExvQeZaHK"
      },
      "execution_count": 290,
      "outputs": []
    },
    {
      "cell_type": "code",
      "source": [
        "print(sqrt(100))"
      ],
      "metadata": {
        "colab": {
          "base_uri": "https://localhost:8080/"
        },
        "id": "c3FEgnO7Zj8n",
        "outputId": "528f5dcc-d92e-4aa6-ac83-c90c4924fe11"
      },
      "execution_count": 291,
      "outputs": [
        {
          "output_type": "stream",
          "name": "stdout",
          "text": [
            "10.0\n"
          ]
        }
      ]
    },
    {
      "cell_type": "markdown",
      "source": [
        "#Getting User Imput Practise"
      ],
      "metadata": {
        "id": "7dRLqY4paGK9"
      }
    },
    {
      "cell_type": "code",
      "source": [
        "name = input(\"What Your Name:\")"
      ],
      "metadata": {
        "colab": {
          "base_uri": "https://localhost:8080/"
        },
        "id": "h4iRqks0aLj5",
        "outputId": "36c069bf-befa-47e6-d20a-106fc405e178"
      },
      "execution_count": 292,
      "outputs": [
        {
          "name": "stdout",
          "output_type": "stream",
          "text": [
            "What Your Name:Dom\n"
          ]
        }
      ]
    },
    {
      "cell_type": "code",
      "source": [
        "print(name)"
      ],
      "metadata": {
        "colab": {
          "base_uri": "https://localhost:8080/"
        },
        "id": "4kmWWIRqaq1T",
        "outputId": "0ebaacfa-626a-4215-f6a7-d889b6b43c52"
      },
      "execution_count": 293,
      "outputs": [
        {
          "output_type": "stream",
          "name": "stdout",
          "text": [
            "Dom\n"
          ]
        }
      ]
    },
    {
      "cell_type": "code",
      "source": [
        "age = int(input(\"What is your age: \"))"
      ],
      "metadata": {
        "colab": {
          "base_uri": "https://localhost:8080/"
        },
        "id": "VObRJ58NauwW",
        "outputId": "c64f899c-809d-47cb-895d-6eebc027ffe2"
      },
      "execution_count": 294,
      "outputs": [
        {
          "name": "stdout",
          "output_type": "stream",
          "text": [
            "What is your age: 32\n"
          ]
        }
      ]
    },
    {
      "cell_type": "code",
      "source": [
        "print(\"Your name is\", name, \"and you are\", age, \"years old\")"
      ],
      "metadata": {
        "colab": {
          "base_uri": "https://localhost:8080/"
        },
        "id": "SCAIKsEubLJC",
        "outputId": "924e00a5-c1ae-42f7-c72d-00bdf8448ba7"
      },
      "execution_count": 295,
      "outputs": [
        {
          "output_type": "stream",
          "name": "stdout",
          "text": [
            "Your name is Dom and you are 32 years old\n"
          ]
        }
      ]
    },
    {
      "cell_type": "code",
      "source": [
        "sentence= input(\"Enter your job\")\n",
        "print(\"Your job is\", sentence)"
      ],
      "metadata": {
        "colab": {
          "base_uri": "https://localhost:8080/"
        },
        "id": "o8GdTDZ-i7lf",
        "outputId": "777c4efa-68f5-4b2c-e8cf-6da9d8ece7ca"
      },
      "execution_count": 296,
      "outputs": [
        {
          "output_type": "stream",
          "name": "stdout",
          "text": [
            "Enter your jobEvents Host\n",
            "Your job is Events Host\n"
          ]
        }
      ]
    },
    {
      "cell_type": "code",
      "source": [
        "word1 =input(\"Enter the job you want to replace: \")\n",
        "word2= input(\"Enter your dream job to replace your current job: \")"
      ],
      "metadata": {
        "colab": {
          "base_uri": "https://localhost:8080/"
        },
        "id": "d71fKEurjhjx",
        "outputId": "2a92de77-615b-4b05-e619-f4754c8116b3"
      },
      "execution_count": 297,
      "outputs": [
        {
          "name": "stdout",
          "output_type": "stream",
          "text": [
            "Enter the job you want to replace: Events Host\n",
            "Enter your dream job to replace your current job: Business Analyst\n"
          ]
        }
      ]
    },
    {
      "cell_type": "code",
      "source": [
        "print(sentence.replace(word1,word2))"
      ],
      "metadata": {
        "colab": {
          "base_uri": "https://localhost:8080/"
        },
        "id": "jQbUxciYkSMM",
        "outputId": "c3d9fe7b-e70b-401f-879e-bb41da1d282b"
      },
      "execution_count": 298,
      "outputs": [
        {
          "output_type": "stream",
          "name": "stdout",
          "text": [
            "Business Analyst\n"
          ]
        }
      ]
    },
    {
      "cell_type": "markdown",
      "source": [
        "#Creating Lists in Python Practise"
      ],
      "metadata": {
        "id": "9z36voGyl4_h"
      }
    },
    {
      "cell_type": "code",
      "source": [
        "countries = [\"United Kingdom\", \"Ghana\",\"South Africa\", \"Angola\",\"New Zealand\"]\n",
        "print(countries)"
      ],
      "metadata": {
        "colab": {
          "base_uri": "https://localhost:8080/"
        },
        "id": "Hp9vI2fvmHQD",
        "outputId": "ada33974-d3ff-4850-c644-9f1996f63fe1"
      },
      "execution_count": 299,
      "outputs": [
        {
          "output_type": "stream",
          "name": "stdout",
          "text": [
            "['United Kingdom', 'Ghana', 'South Africa', 'Angola', 'New Zealand']\n"
          ]
        }
      ]
    },
    {
      "cell_type": "code",
      "source": [
        "print(countries.index(\"Ghana\"))"
      ],
      "metadata": {
        "colab": {
          "base_uri": "https://localhost:8080/"
        },
        "id": "UzXOJCgnmnuc",
        "outputId": "01066c7a-4494-4be5-e123-3b4440b744d3"
      },
      "execution_count": 300,
      "outputs": [
        {
          "output_type": "stream",
          "name": "stdout",
          "text": [
            "1\n"
          ]
        }
      ]
    },
    {
      "cell_type": "code",
      "source": [
        "print(countries[2])"
      ],
      "metadata": {
        "colab": {
          "base_uri": "https://localhost:8080/"
        },
        "id": "EP4dMV5Kmn2d",
        "outputId": "ff83ec0c-8a7b-4088-92db-313ad2bab99f"
      },
      "execution_count": 301,
      "outputs": [
        {
          "output_type": "stream",
          "name": "stdout",
          "text": [
            "South Africa\n"
          ]
        }
      ]
    },
    {
      "cell_type": "code",
      "source": [
        "print(countries[1][0])"
      ],
      "metadata": {
        "colab": {
          "base_uri": "https://localhost:8080/"
        },
        "id": "PllJq4YCnadB",
        "outputId": "b885c4af-3b7b-4d35-c32c-fb7e7c3a2b91"
      },
      "execution_count": 302,
      "outputs": [
        {
          "output_type": "stream",
          "name": "stdout",
          "text": [
            "G\n"
          ]
        }
      ]
    },
    {
      "cell_type": "code",
      "source": [
        "print(countries[1:])"
      ],
      "metadata": {
        "colab": {
          "base_uri": "https://localhost:8080/"
        },
        "id": "2oo_Nx6Snpc0",
        "outputId": "92a7d3d0-b608-4eeb-cd20-b06057188c45"
      },
      "execution_count": 303,
      "outputs": [
        {
          "output_type": "stream",
          "name": "stdout",
          "text": [
            "['Ghana', 'South Africa', 'Angola', 'New Zealand']\n"
          ]
        }
      ]
    },
    {
      "cell_type": "code",
      "source": [
        "print(countries[-1])"
      ],
      "metadata": {
        "colab": {
          "base_uri": "https://localhost:8080/"
        },
        "id": "JRxv0llMn14W",
        "outputId": "7b3ee795-8edf-4e88-9c01-9122c877c1c3"
      },
      "execution_count": 304,
      "outputs": [
        {
          "output_type": "stream",
          "name": "stdout",
          "text": [
            "New Zealand\n"
          ]
        }
      ]
    },
    {
      "cell_type": "code",
      "source": [
        "print(countries[1:3])"
      ],
      "metadata": {
        "colab": {
          "base_uri": "https://localhost:8080/"
        },
        "id": "59twJiCToIa_",
        "outputId": "149b8693-12ec-4269-b381-57eedaa361b7"
      },
      "execution_count": 305,
      "outputs": [
        {
          "output_type": "stream",
          "name": "stdout",
          "text": [
            "['Ghana', 'South Africa']\n"
          ]
        }
      ]
    },
    {
      "cell_type": "code",
      "source": [
        "print(type(countries))"
      ],
      "metadata": {
        "colab": {
          "base_uri": "https://localhost:8080/"
        },
        "id": "Gtf7cMEzn8Be",
        "outputId": "e447a1cf-3d4c-4a0e-d2f8-ddae10e7611c"
      },
      "execution_count": 306,
      "outputs": [
        {
          "output_type": "stream",
          "name": "stdout",
          "text": [
            "<class 'list'>\n"
          ]
        }
      ]
    },
    {
      "cell_type": "code",
      "source": [
        "countries[0]= \"United States\"\n",
        "print(countries)"
      ],
      "metadata": {
        "colab": {
          "base_uri": "https://localhost:8080/"
        },
        "id": "_jsHeFexo7Bx",
        "outputId": "13dc871c-ea44-4fb8-b71b-44d423fad33a"
      },
      "execution_count": 307,
      "outputs": [
        {
          "output_type": "stream",
          "name": "stdout",
          "text": [
            "['United States', 'Ghana', 'South Africa', 'Angola', 'New Zealand']\n"
          ]
        }
      ]
    },
    {
      "cell_type": "code",
      "source": [
        "countries[3]= \"Canada\"\n",
        "print(countries)"
      ],
      "metadata": {
        "colab": {
          "base_uri": "https://localhost:8080/"
        },
        "id": "3DLYo_qUpJ5Z",
        "outputId": "26db98ea-2f51-4010-8b21-b996607a3250"
      },
      "execution_count": 308,
      "outputs": [
        {
          "output_type": "stream",
          "name": "stdout",
          "text": [
            "['United States', 'Ghana', 'South Africa', 'Canada', 'New Zealand']\n"
          ]
        }
      ]
    },
    {
      "cell_type": "code",
      "source": [
        "print(len(countries))"
      ],
      "metadata": {
        "colab": {
          "base_uri": "https://localhost:8080/"
        },
        "id": "7Lk1lNJHqOM2",
        "outputId": "505e4b50-9b67-4cda-99c2-c54badb636b3"
      },
      "execution_count": 309,
      "outputs": [
        {
          "output_type": "stream",
          "name": "stdout",
          "text": [
            "5\n"
          ]
        }
      ]
    },
    {
      "cell_type": "code",
      "source": [
        "print(type(countries[0]))"
      ],
      "metadata": {
        "colab": {
          "base_uri": "https://localhost:8080/"
        },
        "id": "ml4zvbHnqr0s",
        "outputId": "8f4a5db0-2d71-4d73-f51e-cfbd27979d63"
      },
      "execution_count": 311,
      "outputs": [
        {
          "output_type": "stream",
          "name": "stdout",
          "text": [
            "<class 'str'>\n"
          ]
        }
      ]
    },
    {
      "cell_type": "code",
      "source": [
        "Fruits= list((\"Apples\", \"Banana\", \"Orange\", \"Passion Fruit\", \"Tomato\"))\n",
        "print(Fruits)"
      ],
      "metadata": {
        "colab": {
          "base_uri": "https://localhost:8080/"
        },
        "id": "nT0brXUyrWvx",
        "outputId": "4175733f-6e38-48e5-cf89-b3e7ffc8da69"
      },
      "execution_count": 315,
      "outputs": [
        {
          "output_type": "stream",
          "name": "stdout",
          "text": [
            "['Apples', 'Banana', 'Orange', 'Passion Fruit', 'Tomato']\n"
          ]
        }
      ]
    },
    {
      "cell_type": "markdown",
      "source": [
        "#List Methods"
      ],
      "metadata": {
        "id": "MkGB9IHZsQS1"
      }
    },
    {
      "cell_type": "code",
      "source": [],
      "metadata": {
        "id": "EhOsXB2CsUcu"
      },
      "execution_count": null,
      "outputs": []
    }
  ]
}